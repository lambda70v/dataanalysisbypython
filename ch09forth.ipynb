{
 "cells": [
  {
   "cell_type": "code",
   "execution_count": 1,
   "metadata": {
    "collapsed": true
   },
   "outputs": [],
   "source": [
    "import pandas as pd\n",
    "import numpy as np\n",
    "import matplotlib.pyplot as plt\n",
    "%matplotlib inline\n",
    "from pandas import DataFrame, Series"
   ]
  },
  {
   "cell_type": "code",
   "execution_count": 2,
   "metadata": {
    "collapsed": false
   },
   "outputs": [
    {
     "data": {
      "text/plain": [
       "0    (-1.711, -0.142]\n",
       "1    (-1.711, -0.142]\n",
       "2    (-1.711, -0.142]\n",
       "3     (-0.142, 1.427]\n",
       "4      (1.427, 2.996]\n",
       "5    (-1.711, -0.142]\n",
       "6    (-1.711, -0.142]\n",
       "7    (-1.711, -0.142]\n",
       "8     (-0.142, 1.427]\n",
       "9    (-1.711, -0.142]\n",
       "Name: data1, dtype: category\n",
       "Categories (4, object): [(-3.286, -1.711] < (-1.711, -0.142] < (-0.142, 1.427] < (1.427, 2.996]]"
      ]
     },
     "execution_count": 2,
     "metadata": {},
     "output_type": "execute_result"
    }
   ],
   "source": [
    "frame = DataFrame({'data1': np.random.randn(1000),\n",
    "                  'data2': np.random.randn(1000)})\n",
    "factor = pd.cut(frame.data1, 4)\n",
    "factor[:10]"
   ]
  },
  {
   "cell_type": "code",
   "execution_count": 5,
   "metadata": {
    "collapsed": false
   },
   "outputs": [
    {
     "data": {
      "text/html": [
       "<div>\n",
       "<table border=\"1\" class=\"dataframe\">\n",
       "  <thead>\n",
       "    <tr style=\"text-align: right;\">\n",
       "      <th></th>\n",
       "      <th>count</th>\n",
       "      <th>max</th>\n",
       "      <th>mean</th>\n",
       "      <th>min</th>\n",
       "    </tr>\n",
       "    <tr>\n",
       "      <th>data1</th>\n",
       "      <th></th>\n",
       "      <th></th>\n",
       "      <th></th>\n",
       "      <th></th>\n",
       "    </tr>\n",
       "  </thead>\n",
       "  <tbody>\n",
       "    <tr>\n",
       "      <th>(-3.286, -1.711]</th>\n",
       "      <td>36.0</td>\n",
       "      <td>1.429755</td>\n",
       "      <td>0.133470</td>\n",
       "      <td>-1.841987</td>\n",
       "    </tr>\n",
       "    <tr>\n",
       "      <th>(-1.711, -0.142]</th>\n",
       "      <td>413.0</td>\n",
       "      <td>2.706651</td>\n",
       "      <td>-0.029715</td>\n",
       "      <td>-3.052640</td>\n",
       "    </tr>\n",
       "    <tr>\n",
       "      <th>(-0.142, 1.427]</th>\n",
       "      <td>454.0</td>\n",
       "      <td>3.396982</td>\n",
       "      <td>-0.055334</td>\n",
       "      <td>-2.835381</td>\n",
       "    </tr>\n",
       "    <tr>\n",
       "      <th>(1.427, 2.996]</th>\n",
       "      <td>97.0</td>\n",
       "      <td>2.247663</td>\n",
       "      <td>-0.085518</td>\n",
       "      <td>-2.458182</td>\n",
       "    </tr>\n",
       "  </tbody>\n",
       "</table>\n",
       "</div>"
      ],
      "text/plain": [
       "                  count       max      mean       min\n",
       "data1                                                \n",
       "(-3.286, -1.711]   36.0  1.429755  0.133470 -1.841987\n",
       "(-1.711, -0.142]  413.0  2.706651 -0.029715 -3.052640\n",
       "(-0.142, 1.427]   454.0  3.396982 -0.055334 -2.835381\n",
       "(1.427, 2.996]     97.0  2.247663 -0.085518 -2.458182"
      ]
     },
     "execution_count": 5,
     "metadata": {},
     "output_type": "execute_result"
    }
   ],
   "source": [
    "def get_stats(group):\n",
    "    return {'min': group.min(), 'max': group.max(),\n",
    "           'count': group.count(), 'mean': group.mean()}\n",
    "\n",
    "grouped = frame.data2.groupby(factor)\n",
    "grouped.apply(get_stats).unstack()"
   ]
  },
  {
   "cell_type": "code",
   "execution_count": 6,
   "metadata": {
    "collapsed": false
   },
   "outputs": [
    {
     "data": {
      "text/html": [
       "<div>\n",
       "<table border=\"1\" class=\"dataframe\">\n",
       "  <thead>\n",
       "    <tr style=\"text-align: right;\">\n",
       "      <th></th>\n",
       "      <th>count</th>\n",
       "      <th>max</th>\n",
       "      <th>mean</th>\n",
       "      <th>min</th>\n",
       "    </tr>\n",
       "    <tr>\n",
       "      <th>data1</th>\n",
       "      <th></th>\n",
       "      <th></th>\n",
       "      <th></th>\n",
       "      <th></th>\n",
       "    </tr>\n",
       "  </thead>\n",
       "  <tbody>\n",
       "    <tr>\n",
       "      <th>0</th>\n",
       "      <td>100.0</td>\n",
       "      <td>2.281205</td>\n",
       "      <td>-0.014777</td>\n",
       "      <td>-1.841987</td>\n",
       "    </tr>\n",
       "    <tr>\n",
       "      <th>1</th>\n",
       "      <td>100.0</td>\n",
       "      <td>2.044891</td>\n",
       "      <td>-0.081777</td>\n",
       "      <td>-3.052640</td>\n",
       "    </tr>\n",
       "    <tr>\n",
       "      <th>2</th>\n",
       "      <td>100.0</td>\n",
       "      <td>2.029033</td>\n",
       "      <td>-0.069251</td>\n",
       "      <td>-1.902880</td>\n",
       "    </tr>\n",
       "    <tr>\n",
       "      <th>3</th>\n",
       "      <td>100.0</td>\n",
       "      <td>2.706651</td>\n",
       "      <td>0.017314</td>\n",
       "      <td>-1.686695</td>\n",
       "    </tr>\n",
       "    <tr>\n",
       "      <th>4</th>\n",
       "      <td>100.0</td>\n",
       "      <td>3.139268</td>\n",
       "      <td>0.178949</td>\n",
       "      <td>-1.903161</td>\n",
       "    </tr>\n",
       "    <tr>\n",
       "      <th>5</th>\n",
       "      <td>100.0</td>\n",
       "      <td>3.142929</td>\n",
       "      <td>-0.267838</td>\n",
       "      <td>-2.821386</td>\n",
       "    </tr>\n",
       "    <tr>\n",
       "      <th>6</th>\n",
       "      <td>100.0</td>\n",
       "      <td>2.158538</td>\n",
       "      <td>-0.065632</td>\n",
       "      <td>-1.945404</td>\n",
       "    </tr>\n",
       "    <tr>\n",
       "      <th>7</th>\n",
       "      <td>100.0</td>\n",
       "      <td>2.321973</td>\n",
       "      <td>-0.095375</td>\n",
       "      <td>-2.125057</td>\n",
       "    </tr>\n",
       "    <tr>\n",
       "      <th>8</th>\n",
       "      <td>100.0</td>\n",
       "      <td>3.396982</td>\n",
       "      <td>0.057176</td>\n",
       "      <td>-2.835381</td>\n",
       "    </tr>\n",
       "    <tr>\n",
       "      <th>9</th>\n",
       "      <td>100.0</td>\n",
       "      <td>2.247663</td>\n",
       "      <td>-0.067630</td>\n",
       "      <td>-2.458182</td>\n",
       "    </tr>\n",
       "  </tbody>\n",
       "</table>\n",
       "</div>"
      ],
      "text/plain": [
       "       count       max      mean       min\n",
       "data1                                     \n",
       "0      100.0  2.281205 -0.014777 -1.841987\n",
       "1      100.0  2.044891 -0.081777 -3.052640\n",
       "2      100.0  2.029033 -0.069251 -1.902880\n",
       "3      100.0  2.706651  0.017314 -1.686695\n",
       "4      100.0  3.139268  0.178949 -1.903161\n",
       "5      100.0  3.142929 -0.267838 -2.821386\n",
       "6      100.0  2.158538 -0.065632 -1.945404\n",
       "7      100.0  2.321973 -0.095375 -2.125057\n",
       "8      100.0  3.396982  0.057176 -2.835381\n",
       "9      100.0  2.247663 -0.067630 -2.458182"
      ]
     },
     "execution_count": 6,
     "metadata": {},
     "output_type": "execute_result"
    }
   ],
   "source": [
    "# 返回分位数编号\n",
    "grouping = pd.qcut(frame.data1, 10, labels=False)\n",
    "grouped = frame.data2.groupby(grouping)\n",
    "grouped.apply(get_stats).unstack()"
   ]
  },
  {
   "cell_type": "code",
   "execution_count": 8,
   "metadata": {
    "collapsed": false
   },
   "outputs": [
    {
     "data": {
      "text/plain": [
       "0         NaN\n",
       "1   -0.913053\n",
       "2         NaN\n",
       "3    0.717628\n",
       "4         NaN\n",
       "5    0.511689\n",
       "dtype: float64"
      ]
     },
     "execution_count": 8,
     "metadata": {},
     "output_type": "execute_result"
    }
   ],
   "source": [
    "s=Series(np.random.randn(6))\n",
    "s[::2] = np.nan\n",
    "s"
   ]
  },
  {
   "cell_type": "code",
   "execution_count": 9,
   "metadata": {
    "collapsed": false
   },
   "outputs": [
    {
     "data": {
      "text/plain": [
       "0    0.105421\n",
       "1   -0.913053\n",
       "2    0.105421\n",
       "3    0.717628\n",
       "4    0.105421\n",
       "5    0.511689\n",
       "dtype: float64"
      ]
     },
     "execution_count": 9,
     "metadata": {},
     "output_type": "execute_result"
    }
   ],
   "source": [
    "s.fillna(s.mean())"
   ]
  },
  {
   "cell_type": "code",
   "execution_count": 10,
   "metadata": {
    "collapsed": false
   },
   "outputs": [
    {
     "data": {
      "text/plain": [
       "Ohio         -0.033187\n",
       "New York      2.496403\n",
       "Vermont            NaN\n",
       "Florida      -1.350902\n",
       "Oregon        1.325042\n",
       "Nevada             NaN\n",
       "California    1.603818\n",
       "Idaho              NaN\n",
       "dtype: float64"
      ]
     },
     "execution_count": 10,
     "metadata": {},
     "output_type": "execute_result"
    }
   ],
   "source": [
    "states = ['Ohio', 'New York', 'Vermont', 'Florida',\n",
    "         'Oregon', 'Nevada', 'California', 'Idaho']\n",
    "group_key = ['East']*4 + ['West'] * 4\n",
    "data = Series(np.random.randn(8), index=states)\n",
    "data[['Vermont', 'Nevada', 'Idaho']] = np.nan\n",
    "data"
   ]
  },
  {
   "cell_type": "code",
   "execution_count": 11,
   "metadata": {
    "collapsed": false
   },
   "outputs": [
    {
     "data": {
      "text/plain": [
       "East    0.370771\n",
       "West    1.464430\n",
       "dtype: float64"
      ]
     },
     "execution_count": 11,
     "metadata": {},
     "output_type": "execute_result"
    }
   ],
   "source": [
    "data.groupby(group_key).mean()"
   ]
  },
  {
   "cell_type": "code",
   "execution_count": 12,
   "metadata": {
    "collapsed": false
   },
   "outputs": [
    {
     "data": {
      "text/plain": [
       "Ohio         -0.033187\n",
       "New York      2.496403\n",
       "Vermont       0.370771\n",
       "Florida      -1.350902\n",
       "Oregon        1.325042\n",
       "Nevada        1.464430\n",
       "California    1.603818\n",
       "Idaho         1.464430\n",
       "dtype: float64"
      ]
     },
     "execution_count": 12,
     "metadata": {},
     "output_type": "execute_result"
    }
   ],
   "source": [
    "fill_mean = lambda g: g.fillna(g.mean())\n",
    "data.groupby(group_key).apply(fill_mean)"
   ]
  },
  {
   "cell_type": "code",
   "execution_count": 13,
   "metadata": {
    "collapsed": false
   },
   "outputs": [
    {
     "data": {
      "text/plain": [
       "Ohio         -0.033187\n",
       "New York      2.496403\n",
       "Vermont       0.500000\n",
       "Florida      -1.350902\n",
       "Oregon        1.325042\n",
       "Nevada       -1.000000\n",
       "California    1.603818\n",
       "Idaho        -1.000000\n",
       "dtype: float64"
      ]
     },
     "execution_count": 13,
     "metadata": {},
     "output_type": "execute_result"
    }
   ],
   "source": [
    "fill_values = {'East': 0.5, 'West': -1}\n",
    "fill_func = lambda g: g.fillna(fill_values[g.name])\n",
    "data.groupby(group_key).apply(fill_func)"
   ]
  },
  {
   "cell_type": "code",
   "execution_count": 14,
   "metadata": {
    "collapsed": false
   },
   "outputs": [
    {
     "data": {
      "text/plain": [
       "AH      1\n",
       "2H      2\n",
       "3H      3\n",
       "4H      4\n",
       "5H      5\n",
       "6H      6\n",
       "7H      7\n",
       "8H      8\n",
       "9H      9\n",
       "10H    10\n",
       "JH     10\n",
       "KH     10\n",
       "QH     10\n",
       "dtype: int64"
      ]
     },
     "execution_count": 14,
     "metadata": {},
     "output_type": "execute_result"
    }
   ],
   "source": [
    "# 红桃(Hearts) 、黑桃（Spades）、梅花（Clubs）、方片(Diamonds)\n",
    "suits = ['H', 'S', 'C', 'D']\n",
    "card_val = (range(1, 11) + [10]*3)*4\n",
    "base_names = ['A'] + range(2, 11) + ['J', 'K', 'Q']\n",
    "cards = []\n",
    "for suit in ['H', 'S', 'C', 'D']:\n",
    "    cards.extend(str(num) + suit for num in base_names)\n",
    "deck = Series(card_val, index=cards)\n",
    "deck[:13]"
   ]
  },
  {
   "cell_type": "code",
   "execution_count": 15,
   "metadata": {
    "collapsed": false
   },
   "outputs": [
    {
     "data": {
      "text/plain": [
       "AD    1\n",
       "2H    2\n",
       "7H    7\n",
       "4D    4\n",
       "8S    8\n",
       "dtype: int64"
      ]
     },
     "execution_count": 15,
     "metadata": {},
     "output_type": "execute_result"
    }
   ],
   "source": [
    "def draw(deck, n=5):\n",
    "    return deck.take(np.random.permutation(len(deck))[:n])\n",
    "draw(deck)"
   ]
  },
  {
   "cell_type": "code",
   "execution_count": 16,
   "metadata": {
    "collapsed": false
   },
   "outputs": [
    {
     "data": {
      "text/plain": [
       "C  QC    10\n",
       "   2C     2\n",
       "D  4D     4\n",
       "   KD    10\n",
       "H  KH    10\n",
       "   QH    10\n",
       "S  JS    10\n",
       "   5S     5\n",
       "dtype: int64"
      ]
     },
     "execution_count": 16,
     "metadata": {},
     "output_type": "execute_result"
    }
   ],
   "source": [
    "get_suit = lambda card: card[-1] # 只要最后一个字母就可以了\n",
    "\n",
    "deck.groupby(get_suit).apply(draw, n=2)"
   ]
  },
  {
   "cell_type": "code",
   "execution_count": 18,
   "metadata": {
    "collapsed": false
   },
   "outputs": [
    {
     "data": {
      "text/plain": [
       "7C      7\n",
       "JC     10\n",
       "JD     10\n",
       "10D    10\n",
       "10H    10\n",
       "9H      9\n",
       "3S      3\n",
       "10S    10\n",
       "dtype: int64"
      ]
     },
     "execution_count": 18,
     "metadata": {},
     "output_type": "execute_result"
    }
   ],
   "source": [
    "#另一种办法\n",
    "deck.groupby(get_suit, group_keys=False).apply(draw, n=2)"
   ]
  },
  {
   "cell_type": "code",
   "execution_count": null,
   "metadata": {
    "collapsed": true
   },
   "outputs": [],
   "source": []
  }
 ],
 "metadata": {
  "kernelspec": {
   "display_name": "Python [Root]",
   "language": "python",
   "name": "Python [Root]"
  },
  "language_info": {
   "codemirror_mode": {
    "name": "ipython",
    "version": 2
   },
   "file_extension": ".py",
   "mimetype": "text/x-python",
   "name": "python",
   "nbconvert_exporter": "python",
   "pygments_lexer": "ipython2",
   "version": "2.7.11"
  }
 },
 "nbformat": 4,
 "nbformat_minor": 0
}
