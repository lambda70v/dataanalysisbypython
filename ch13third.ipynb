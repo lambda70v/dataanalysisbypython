{
 "cells": [
  {
   "cell_type": "code",
   "execution_count": 1,
   "metadata": {
    "collapsed": true
   },
   "outputs": [],
   "source": [
    "import pandas as pd\n",
    "import numpy as np\n",
    "import matplotlib.pyplot as plt\n",
    "%matplotlib inline\n",
    "from pandas import DataFrame, Series\n",
    "from numpy.random import randn\n",
    "import re"
   ]
  },
  {
   "cell_type": "code",
   "execution_count": 2,
   "metadata": {
    "collapsed": true
   },
   "outputs": [],
   "source": [
    "def make_watcher():\n",
    "    have_seen = {}\n",
    "    \n",
    "    def has_been_seen(x):\n",
    "        if x in have_seen:\n",
    "            return True\n",
    "        else:\n",
    "            have_seen[x] = True\n",
    "            return False\n",
    "    return has_been_seen"
   ]
  },
  {
   "cell_type": "code",
   "execution_count": 3,
   "metadata": {
    "collapsed": false
   },
   "outputs": [
    {
     "data": {
      "text/plain": [
       "[False, False, False, True, True, True, False, True]"
      ]
     },
     "execution_count": 3,
     "metadata": {},
     "output_type": "execute_result"
    }
   ],
   "source": [
    "watcher = make_watcher()\n",
    "\n",
    "vals = [5, 6, 1, 5, 1, 6, 3, 5]\n",
    "\n",
    "[watcher(x) for x in vals]"
   ]
  },
  {
   "cell_type": "code",
   "execution_count": 4,
   "metadata": {
    "collapsed": false
   },
   "outputs": [
    {
     "data": {
      "text/plain": [
       "2"
      ]
     },
     "execution_count": 4,
     "metadata": {},
     "output_type": "execute_result"
    }
   ],
   "source": [
    "def make_counter():\n",
    "    count = [0]\n",
    "    def counter():\n",
    "        # 增加并返回当前的count\n",
    "        count[0] += 1\n",
    "        return count[0]\n",
    "    return counter\n",
    "\n",
    "counter = make_counter()\n",
    "counter()\n",
    "counter()"
   ]
  },
  {
   "cell_type": "code",
   "execution_count": 6,
   "metadata": {
    "collapsed": false
   },
   "outputs": [
    {
     "data": {
      "text/plain": [
       "'         3.1415'"
      ]
     },
     "execution_count": 6,
     "metadata": {},
     "output_type": "execute_result"
    }
   ],
   "source": [
    "def format_and_pad(template, space):\n",
    "    def formatter(x):\n",
    "        return (template % x).rjust(space)\n",
    "    \n",
    "    return formatter\n",
    "\n",
    "fmt = format_and_pad('%.4f', 15)\n",
    "fmt(3.1415)"
   ]
  },
  {
   "cell_type": "code",
   "execution_count": 7,
   "metadata": {
    "collapsed": true
   },
   "outputs": [],
   "source": [
    "def say_hello_then_call_f(f, *args, **kwargs):\n",
    "    print 'args is', args\n",
    "    print 'kwargs is', kwargs\n",
    "    print(\"Hello! Now I'm going to call %s\" % f)\n",
    "    return f(*args, **kwargs)\n",
    "\n",
    "def g(x, y, z=1):\n",
    "    return (x + y) / z"
   ]
  },
  {
   "cell_type": "code",
   "execution_count": 8,
   "metadata": {
    "collapsed": false
   },
   "outputs": [
    {
     "name": "stdout",
     "output_type": "stream",
     "text": [
      "args is (1, 2)\n",
      "kwargs is {'z': 5.0}\n",
      "Hello! Now I'm going to call <function g at 0x0000000009A7D128>\n"
     ]
    },
    {
     "data": {
      "text/plain": [
       "0.6"
      ]
     },
     "execution_count": 8,
     "metadata": {},
     "output_type": "execute_result"
    }
   ],
   "source": [
    "say_hello_then_call_f(g, 1, 2, z=5.)"
   ]
  },
  {
   "cell_type": "code",
   "execution_count": 9,
   "metadata": {
    "collapsed": true
   },
   "outputs": [],
   "source": [
    "def add_numbers(x, y):\n",
    "    return x + y"
   ]
  },
  {
   "cell_type": "code",
   "execution_count": 10,
   "metadata": {
    "collapsed": false
   },
   "outputs": [
    {
     "data": {
      "text/plain": [
       "12"
      ]
     },
     "execution_count": 10,
     "metadata": {},
     "output_type": "execute_result"
    }
   ],
   "source": [
    "add_five = lambda y: add_numbers(5, y)\n",
    "add_five(7)"
   ]
  },
  {
   "cell_type": "code",
   "execution_count": 11,
   "metadata": {
    "collapsed": false
   },
   "outputs": [
    {
     "data": {
      "text/plain": [
       "1005"
      ]
     },
     "execution_count": 11,
     "metadata": {},
     "output_type": "execute_result"
    }
   ],
   "source": [
    "from functools import partial\n",
    "add_five = partial(add_numbers, 5)\n",
    "add_five(1000)"
   ]
  },
  {
   "cell_type": "code",
   "execution_count": 15,
   "metadata": {
    "collapsed": false
   },
   "outputs": [
    {
     "name": "stderr",
     "output_type": "stream",
     "text": [
      "d:\\Anaconda2\\lib\\site-packages\\ipykernel\\__main__.py:2: FutureWarning: pd.rolling_mean is deprecated for Series and will be removed in a future version, replace with \n",
      "\tSeries.rolling(window=60,center=False).mean()\n",
      "  from ipykernel import kernelapp as app\n"
     ]
    },
    {
     "data": {
      "text/html": [
       "<div>\n",
       "<table border=\"1\" class=\"dataframe\">\n",
       "  <thead>\n",
       "    <tr style=\"text-align: right;\">\n",
       "      <th></th>\n",
       "      <th>0</th>\n",
       "    </tr>\n",
       "  </thead>\n",
       "  <tbody>\n",
       "    <tr>\n",
       "      <th>0</th>\n",
       "      <td>NaN</td>\n",
       "    </tr>\n",
       "    <tr>\n",
       "      <th>1</th>\n",
       "      <td>NaN</td>\n",
       "    </tr>\n",
       "    <tr>\n",
       "      <th>2</th>\n",
       "      <td>NaN</td>\n",
       "    </tr>\n",
       "    <tr>\n",
       "      <th>3</th>\n",
       "      <td>NaN</td>\n",
       "    </tr>\n",
       "    <tr>\n",
       "      <th>4</th>\n",
       "      <td>NaN</td>\n",
       "    </tr>\n",
       "    <tr>\n",
       "      <th>5</th>\n",
       "      <td>NaN</td>\n",
       "    </tr>\n",
       "    <tr>\n",
       "      <th>6</th>\n",
       "      <td>NaN</td>\n",
       "    </tr>\n",
       "    <tr>\n",
       "      <th>7</th>\n",
       "      <td>NaN</td>\n",
       "    </tr>\n",
       "    <tr>\n",
       "      <th>8</th>\n",
       "      <td>NaN</td>\n",
       "    </tr>\n",
       "    <tr>\n",
       "      <th>9</th>\n",
       "      <td>NaN</td>\n",
       "    </tr>\n",
       "    <tr>\n",
       "      <th>10</th>\n",
       "      <td>NaN</td>\n",
       "    </tr>\n",
       "    <tr>\n",
       "      <th>11</th>\n",
       "      <td>NaN</td>\n",
       "    </tr>\n",
       "    <tr>\n",
       "      <th>12</th>\n",
       "      <td>NaN</td>\n",
       "    </tr>\n",
       "    <tr>\n",
       "      <th>13</th>\n",
       "      <td>NaN</td>\n",
       "    </tr>\n",
       "    <tr>\n",
       "      <th>14</th>\n",
       "      <td>NaN</td>\n",
       "    </tr>\n",
       "    <tr>\n",
       "      <th>15</th>\n",
       "      <td>NaN</td>\n",
       "    </tr>\n",
       "    <tr>\n",
       "      <th>16</th>\n",
       "      <td>NaN</td>\n",
       "    </tr>\n",
       "    <tr>\n",
       "      <th>17</th>\n",
       "      <td>NaN</td>\n",
       "    </tr>\n",
       "    <tr>\n",
       "      <th>18</th>\n",
       "      <td>NaN</td>\n",
       "    </tr>\n",
       "    <tr>\n",
       "      <th>19</th>\n",
       "      <td>NaN</td>\n",
       "    </tr>\n",
       "    <tr>\n",
       "      <th>20</th>\n",
       "      <td>NaN</td>\n",
       "    </tr>\n",
       "    <tr>\n",
       "      <th>21</th>\n",
       "      <td>NaN</td>\n",
       "    </tr>\n",
       "    <tr>\n",
       "      <th>22</th>\n",
       "      <td>NaN</td>\n",
       "    </tr>\n",
       "    <tr>\n",
       "      <th>23</th>\n",
       "      <td>NaN</td>\n",
       "    </tr>\n",
       "    <tr>\n",
       "      <th>24</th>\n",
       "      <td>NaN</td>\n",
       "    </tr>\n",
       "    <tr>\n",
       "      <th>25</th>\n",
       "      <td>NaN</td>\n",
       "    </tr>\n",
       "    <tr>\n",
       "      <th>26</th>\n",
       "      <td>NaN</td>\n",
       "    </tr>\n",
       "    <tr>\n",
       "      <th>27</th>\n",
       "      <td>NaN</td>\n",
       "    </tr>\n",
       "    <tr>\n",
       "      <th>28</th>\n",
       "      <td>NaN</td>\n",
       "    </tr>\n",
       "    <tr>\n",
       "      <th>29</th>\n",
       "      <td>NaN</td>\n",
       "    </tr>\n",
       "    <tr>\n",
       "      <th>...</th>\n",
       "      <td>...</td>\n",
       "    </tr>\n",
       "    <tr>\n",
       "      <th>570</th>\n",
       "      <td>540.5</td>\n",
       "    </tr>\n",
       "    <tr>\n",
       "      <th>571</th>\n",
       "      <td>541.5</td>\n",
       "    </tr>\n",
       "    <tr>\n",
       "      <th>572</th>\n",
       "      <td>542.5</td>\n",
       "    </tr>\n",
       "    <tr>\n",
       "      <th>573</th>\n",
       "      <td>543.5</td>\n",
       "    </tr>\n",
       "    <tr>\n",
       "      <th>574</th>\n",
       "      <td>544.5</td>\n",
       "    </tr>\n",
       "    <tr>\n",
       "      <th>575</th>\n",
       "      <td>545.5</td>\n",
       "    </tr>\n",
       "    <tr>\n",
       "      <th>576</th>\n",
       "      <td>546.5</td>\n",
       "    </tr>\n",
       "    <tr>\n",
       "      <th>577</th>\n",
       "      <td>547.5</td>\n",
       "    </tr>\n",
       "    <tr>\n",
       "      <th>578</th>\n",
       "      <td>548.5</td>\n",
       "    </tr>\n",
       "    <tr>\n",
       "      <th>579</th>\n",
       "      <td>549.5</td>\n",
       "    </tr>\n",
       "    <tr>\n",
       "      <th>580</th>\n",
       "      <td>550.5</td>\n",
       "    </tr>\n",
       "    <tr>\n",
       "      <th>581</th>\n",
       "      <td>551.5</td>\n",
       "    </tr>\n",
       "    <tr>\n",
       "      <th>582</th>\n",
       "      <td>552.5</td>\n",
       "    </tr>\n",
       "    <tr>\n",
       "      <th>583</th>\n",
       "      <td>553.5</td>\n",
       "    </tr>\n",
       "    <tr>\n",
       "      <th>584</th>\n",
       "      <td>554.5</td>\n",
       "    </tr>\n",
       "    <tr>\n",
       "      <th>585</th>\n",
       "      <td>555.5</td>\n",
       "    </tr>\n",
       "    <tr>\n",
       "      <th>586</th>\n",
       "      <td>556.5</td>\n",
       "    </tr>\n",
       "    <tr>\n",
       "      <th>587</th>\n",
       "      <td>557.5</td>\n",
       "    </tr>\n",
       "    <tr>\n",
       "      <th>588</th>\n",
       "      <td>558.5</td>\n",
       "    </tr>\n",
       "    <tr>\n",
       "      <th>589</th>\n",
       "      <td>559.5</td>\n",
       "    </tr>\n",
       "    <tr>\n",
       "      <th>590</th>\n",
       "      <td>560.5</td>\n",
       "    </tr>\n",
       "    <tr>\n",
       "      <th>591</th>\n",
       "      <td>561.5</td>\n",
       "    </tr>\n",
       "    <tr>\n",
       "      <th>592</th>\n",
       "      <td>562.5</td>\n",
       "    </tr>\n",
       "    <tr>\n",
       "      <th>593</th>\n",
       "      <td>563.5</td>\n",
       "    </tr>\n",
       "    <tr>\n",
       "      <th>594</th>\n",
       "      <td>564.5</td>\n",
       "    </tr>\n",
       "    <tr>\n",
       "      <th>595</th>\n",
       "      <td>565.5</td>\n",
       "    </tr>\n",
       "    <tr>\n",
       "      <th>596</th>\n",
       "      <td>566.5</td>\n",
       "    </tr>\n",
       "    <tr>\n",
       "      <th>597</th>\n",
       "      <td>567.5</td>\n",
       "    </tr>\n",
       "    <tr>\n",
       "      <th>598</th>\n",
       "      <td>568.5</td>\n",
       "    </tr>\n",
       "    <tr>\n",
       "      <th>599</th>\n",
       "      <td>569.5</td>\n",
       "    </tr>\n",
       "  </tbody>\n",
       "</table>\n",
       "<p>600 rows × 1 columns</p>\n",
       "</div>"
      ],
      "text/plain": [
       "         0\n",
       "0      NaN\n",
       "1      NaN\n",
       "2      NaN\n",
       "3      NaN\n",
       "4      NaN\n",
       "5      NaN\n",
       "6      NaN\n",
       "7      NaN\n",
       "8      NaN\n",
       "9      NaN\n",
       "10     NaN\n",
       "11     NaN\n",
       "12     NaN\n",
       "13     NaN\n",
       "14     NaN\n",
       "15     NaN\n",
       "16     NaN\n",
       "17     NaN\n",
       "18     NaN\n",
       "19     NaN\n",
       "20     NaN\n",
       "21     NaN\n",
       "22     NaN\n",
       "23     NaN\n",
       "24     NaN\n",
       "25     NaN\n",
       "26     NaN\n",
       "27     NaN\n",
       "28     NaN\n",
       "29     NaN\n",
       "..     ...\n",
       "570  540.5\n",
       "571  541.5\n",
       "572  542.5\n",
       "573  543.5\n",
       "574  544.5\n",
       "575  545.5\n",
       "576  546.5\n",
       "577  547.5\n",
       "578  548.5\n",
       "579  549.5\n",
       "580  550.5\n",
       "581  551.5\n",
       "582  552.5\n",
       "583  553.5\n",
       "584  554.5\n",
       "585  555.5\n",
       "586  556.5\n",
       "587  557.5\n",
       "588  558.5\n",
       "589  559.5\n",
       "590  560.5\n",
       "591  561.5\n",
       "592  562.5\n",
       "593  563.5\n",
       "594  564.5\n",
       "595  565.5\n",
       "596  566.5\n",
       "597  567.5\n",
       "598  568.5\n",
       "599  569.5\n",
       "\n",
       "[600 rows x 1 columns]"
      ]
     },
     "execution_count": 15,
     "metadata": {},
     "output_type": "execute_result"
    }
   ],
   "source": [
    "# 计算时间序列x的60日移动平均\n",
    "ma60 = lambda x: pd.rolling_mean(x, 60)\n",
    "data = DataFrame(range(600))\n",
    "# 计算data中所有时间序列的60日移动平均\n",
    "data.apply(ma60)"
   ]
  },
  {
   "cell_type": "code",
   "execution_count": 16,
   "metadata": {
    "collapsed": false
   },
   "outputs": [
    {
     "name": "stdout",
     "output_type": "stream",
     "text": [
      "a c b\n"
     ]
    }
   ],
   "source": [
    "some_dict = {'a': 1, 'b' : 2, 'c': 3}\n",
    "for key in some_dict:\n",
    "    print key, "
   ]
  },
  {
   "cell_type": "code",
   "execution_count": 17,
   "metadata": {
    "collapsed": false
   },
   "outputs": [
    {
     "data": {
      "text/plain": [
       "<dictionary-keyiterator at 0x9a80b38>"
      ]
     },
     "execution_count": 17,
     "metadata": {},
     "output_type": "execute_result"
    }
   ],
   "source": [
    "dict_iterator = iter(some_dict)\n",
    "dict_iterator"
   ]
  },
  {
   "cell_type": "code",
   "execution_count": 18,
   "metadata": {
    "collapsed": false
   },
   "outputs": [
    {
     "data": {
      "text/plain": [
       "['a', 'c', 'b']"
      ]
     },
     "execution_count": 18,
     "metadata": {},
     "output_type": "execute_result"
    }
   ],
   "source": [
    "list(dict_iterator)"
   ]
  },
  {
   "cell_type": "code",
   "execution_count": 19,
   "metadata": {
    "collapsed": false
   },
   "outputs": [
    {
     "data": {
      "text/plain": [
       "<generator object squares at 0x00000000099059D8>"
      ]
     },
     "execution_count": 19,
     "metadata": {},
     "output_type": "execute_result"
    }
   ],
   "source": [
    "def squares(n=10):\n",
    "    print 'Generating squares from 1 to %d' % (n ** 2)\n",
    "    for i in xrange(1, n + 1):\n",
    "        yield i ** 2\n",
    "gen = squares()\n",
    "gen"
   ]
  },
  {
   "cell_type": "code",
   "execution_count": 20,
   "metadata": {
    "collapsed": false
   },
   "outputs": [
    {
     "name": "stdout",
     "output_type": "stream",
     "text": [
      "Generating squares from 1 to 100\n",
      "1 4 9 16 25 36 49 64 81 100\n"
     ]
    }
   ],
   "source": [
    "for x in gen:\n",
    "    print x,"
   ]
  },
  {
   "cell_type": "code",
   "execution_count": 21,
   "metadata": {
    "collapsed": true
   },
   "outputs": [],
   "source": [
    "def make_change(amount, coins=[1, 5, 10, 25], hand=None):\n",
    "    hand = [] if hand is None else hand\n",
    "    if amount == 0:\n",
    "        yield hand\n",
    "    for coin in coins:\n",
    "        # 确保我们给出的硬币没有超过总额，且组合是唯一的\n",
    "        if coin > amount or (len(hand) > 0 and hand[-1] < coin):\n",
    "            continue\n",
    "        \n",
    "        for result in make_change(amount - coin, coins=coins,\n",
    "                                 hand=hand + [coin]):\n",
    "            yield result"
   ]
  },
  {
   "cell_type": "code",
   "execution_count": 22,
   "metadata": {
    "collapsed": false
   },
   "outputs": [
    {
     "name": "stdout",
     "output_type": "stream",
     "text": [
      "[10, 10, 10, 10, 10, 10, 10, 10, 10, 10]\n",
      "[25, 25, 10, 10, 10, 10, 10]\n",
      "[25, 25, 25, 25]\n",
      "[50, 10, 10, 10, 10, 10]\n",
      "[50, 25, 25]\n",
      "[50, 50]\n"
     ]
    }
   ],
   "source": [
    "for way in make_change(100, coins=[10, 25, 50]):\n",
    "    print way"
   ]
  },
  {
   "cell_type": "code",
   "execution_count": 23,
   "metadata": {
    "collapsed": false
   },
   "outputs": [
    {
     "data": {
      "text/plain": [
       "242"
      ]
     },
     "execution_count": 23,
     "metadata": {},
     "output_type": "execute_result"
    }
   ],
   "source": [
    "len(list(make_change(100)))"
   ]
  },
  {
   "cell_type": "code",
   "execution_count": 24,
   "metadata": {
    "collapsed": false
   },
   "outputs": [
    {
     "data": {
      "text/plain": [
       "<generator object <genexpr> at 0x0000000009905C18>"
      ]
     },
     "execution_count": 24,
     "metadata": {},
     "output_type": "execute_result"
    }
   ],
   "source": [
    "gen = (x ** 2 for x in xrange(100))\n",
    "gen"
   ]
  },
  {
   "cell_type": "code",
   "execution_count": 25,
   "metadata": {
    "collapsed": false
   },
   "outputs": [
    {
     "name": "stdout",
     "output_type": "stream",
     "text": [
      "328350\n"
     ]
    }
   ],
   "source": [
    "sumx = 0\n",
    "for x in gen:\n",
    "    sumx += x\n",
    "print sumx"
   ]
  },
  {
   "cell_type": "code",
   "execution_count": 36,
   "metadata": {
    "collapsed": false
   },
   "outputs": [
    {
     "name": "stdout",
     "output_type": "stream",
     "text": [
      "Once deleted, variables cannot be recovered. Proceed (y/[n])? y\n"
     ]
    },
    {
     "data": {
      "text/plain": [
       "4950.0"
      ]
     },
     "execution_count": 36,
     "metadata": {},
     "output_type": "execute_result"
    }
   ],
   "source": [
    "%reset\n",
    "sum(x*1.0 for x in xrange(100))"
   ]
  },
  {
   "cell_type": "code",
   "execution_count": 31,
   "metadata": {
    "collapsed": false
   },
   "outputs": [
    {
     "data": {
      "text/plain": [
       "{0: 0, 1: 1, 2: 4, 3: 9, 4: 16}"
      ]
     },
     "execution_count": 31,
     "metadata": {},
     "output_type": "execute_result"
    }
   ],
   "source": [
    "dict((i, i **2) for i in xrange(5))"
   ]
  },
  {
   "cell_type": "code",
   "execution_count": 37,
   "metadata": {
    "collapsed": false
   },
   "outputs": [
    {
     "name": "stdout",
     "output_type": "stream",
     "text": [
      "A ['Alan', 'Adam']\n",
      "W ['Wes', 'Will']\n",
      "A ['Albert']\n",
      "S ['Steven']\n"
     ]
    }
   ],
   "source": [
    "import itertools\n",
    "\n",
    "first_letter = lambda x: x[0]\n",
    "names = ['Alan', 'Adam', 'Wes', 'Will', 'Albert', 'Steven']\n",
    "for letter, namesgen in itertools.groupby(names, first_letter):\n",
    "    print letter, list(namesgen) # namesgen是一个生成器"
   ]
  },
  {
   "cell_type": "code",
   "execution_count": 38,
   "metadata": {
    "collapsed": false
   },
   "outputs": [
    {
     "name": "stdout",
     "output_type": "stream",
     "text": [
      "('Alan', 'Adam', 'Wes')\n",
      "('Alan', 'Adam', 'Will')\n",
      "('Alan', 'Adam', 'Albert')\n",
      "('Alan', 'Adam', 'Steven')\n",
      "('Alan', 'Wes', 'Will')\n",
      "('Alan', 'Wes', 'Albert')\n",
      "('Alan', 'Wes', 'Steven')\n",
      "('Alan', 'Will', 'Albert')\n",
      "('Alan', 'Will', 'Steven')\n",
      "('Alan', 'Albert', 'Steven')\n",
      "('Adam', 'Wes', 'Will')\n",
      "('Adam', 'Wes', 'Albert')\n",
      "('Adam', 'Wes', 'Steven')\n",
      "('Adam', 'Will', 'Albert')\n",
      "('Adam', 'Will', 'Steven')\n",
      "('Adam', 'Albert', 'Steven')\n",
      "('Wes', 'Will', 'Albert')\n",
      "('Wes', 'Will', 'Steven')\n",
      "('Wes', 'Albert', 'Steven')\n",
      "('Will', 'Albert', 'Steven')\n"
     ]
    }
   ],
   "source": [
    "for name in itertools.combinations(names, 3):\n",
    "    print name"
   ]
  },
  {
   "cell_type": "code",
   "execution_count": 41,
   "metadata": {
    "collapsed": false
   },
   "outputs": [
    {
     "name": "stdout",
     "output_type": "stream",
     "text": [
      "('Wes', 'Alan', 'Adam', 'Will', 'Albert')\n",
      "('Wes', 'Alan', 'Adam', 'Will', 'Steven')\n",
      "('Wes', 'Alan', 'Adam', 'Albert', 'Will')\n",
      "('Wes', 'Alan', 'Adam', 'Albert', 'Steven')\n",
      "('Wes', 'Alan', 'Adam', 'Steven', 'Will')\n",
      "('Wes', 'Alan', 'Adam', 'Steven', 'Albert')\n",
      "('Wes', 'Alan', 'Will', 'Adam', 'Albert')\n",
      "('Wes', 'Alan', 'Will', 'Adam', 'Steven')\n",
      "('Wes', 'Alan', 'Will', 'Albert', 'Adam')\n",
      "('Wes', 'Alan', 'Will', 'Albert', 'Steven')\n",
      "('Wes', 'Alan', 'Will', 'Steven', 'Adam')\n",
      "('Wes', 'Alan', 'Will', 'Steven', 'Albert')\n",
      "('Wes', 'Alan', 'Albert', 'Adam', 'Will')\n",
      "('Wes', 'Alan', 'Albert', 'Adam', 'Steven')\n",
      "('Wes', 'Alan', 'Albert', 'Will', 'Adam')\n",
      "('Wes', 'Alan', 'Albert', 'Will', 'Steven')\n",
      "('Wes', 'Alan', 'Albert', 'Steven', 'Adam')\n",
      "('Wes', 'Alan', 'Albert', 'Steven', 'Will')\n",
      "('Wes', 'Alan', 'Steven', 'Adam', 'Will')\n",
      "('Wes', 'Alan', 'Steven', 'Adam', 'Albert')\n",
      "('Wes', 'Alan', 'Steven', 'Will', 'Adam')\n",
      "('Wes', 'Alan', 'Steven', 'Will', 'Albert')\n",
      "('Wes', 'Alan', 'Steven', 'Albert', 'Adam')\n",
      "('Wes', 'Alan', 'Steven', 'Albert', 'Will')\n",
      "('Wes', 'Adam', 'Alan', 'Will', 'Albert')\n",
      "('Wes', 'Adam', 'Alan', 'Will', 'Steven')\n",
      "('Wes', 'Adam', 'Alan', 'Albert', 'Will')\n",
      "('Wes', 'Adam', 'Alan', 'Albert', 'Steven')\n",
      "('Wes', 'Adam', 'Alan', 'Steven', 'Will')\n",
      "('Wes', 'Adam', 'Alan', 'Steven', 'Albert')\n",
      "('Wes', 'Adam', 'Will', 'Alan', 'Albert')\n",
      "('Wes', 'Adam', 'Will', 'Alan', 'Steven')\n",
      "('Wes', 'Adam', 'Will', 'Albert', 'Alan')\n",
      "('Wes', 'Adam', 'Will', 'Albert', 'Steven')\n",
      "('Wes', 'Adam', 'Will', 'Steven', 'Alan')\n",
      "('Wes', 'Adam', 'Will', 'Steven', 'Albert')\n",
      "('Wes', 'Adam', 'Albert', 'Alan', 'Will')\n",
      "('Wes', 'Adam', 'Albert', 'Alan', 'Steven')\n",
      "('Wes', 'Adam', 'Albert', 'Will', 'Alan')\n",
      "('Wes', 'Adam', 'Albert', 'Will', 'Steven')\n",
      "('Wes', 'Adam', 'Albert', 'Steven', 'Alan')\n",
      "('Wes', 'Adam', 'Albert', 'Steven', 'Will')\n",
      "('Wes', 'Adam', 'Steven', 'Alan', 'Will')\n",
      "('Wes', 'Adam', 'Steven', 'Alan', 'Albert')\n",
      "('Wes', 'Adam', 'Steven', 'Will', 'Alan')\n",
      "('Wes', 'Adam', 'Steven', 'Will', 'Albert')\n",
      "('Wes', 'Adam', 'Steven', 'Albert', 'Alan')\n",
      "('Wes', 'Adam', 'Steven', 'Albert', 'Will')\n",
      "('Wes', 'Will', 'Alan', 'Adam', 'Albert')\n",
      "('Wes', 'Will', 'Alan', 'Adam', 'Steven')\n",
      "('Wes', 'Will', 'Alan', 'Albert', 'Adam')\n",
      "('Wes', 'Will', 'Alan', 'Albert', 'Steven')\n",
      "('Wes', 'Will', 'Alan', 'Steven', 'Adam')\n",
      "('Wes', 'Will', 'Alan', 'Steven', 'Albert')\n",
      "('Wes', 'Will', 'Adam', 'Alan', 'Albert')\n",
      "('Wes', 'Will', 'Adam', 'Alan', 'Steven')\n",
      "('Wes', 'Will', 'Adam', 'Albert', 'Alan')\n",
      "('Wes', 'Will', 'Adam', 'Albert', 'Steven')\n",
      "('Wes', 'Will', 'Adam', 'Steven', 'Alan')\n",
      "('Wes', 'Will', 'Adam', 'Steven', 'Albert')\n",
      "('Wes', 'Will', 'Albert', 'Alan', 'Adam')\n",
      "('Wes', 'Will', 'Albert', 'Alan', 'Steven')\n",
      "('Wes', 'Will', 'Albert', 'Adam', 'Alan')\n",
      "('Wes', 'Will', 'Albert', 'Adam', 'Steven')\n",
      "('Wes', 'Will', 'Albert', 'Steven', 'Alan')\n",
      "('Wes', 'Will', 'Albert', 'Steven', 'Adam')\n",
      "('Wes', 'Will', 'Steven', 'Alan', 'Adam')\n",
      "('Wes', 'Will', 'Steven', 'Alan', 'Albert')\n",
      "('Wes', 'Will', 'Steven', 'Adam', 'Alan')\n",
      "('Wes', 'Will', 'Steven', 'Adam', 'Albert')\n",
      "('Wes', 'Will', 'Steven', 'Albert', 'Alan')\n",
      "('Wes', 'Will', 'Steven', 'Albert', 'Adam')\n",
      "('Wes', 'Albert', 'Alan', 'Adam', 'Will')\n",
      "('Wes', 'Albert', 'Alan', 'Adam', 'Steven')\n",
      "('Wes', 'Albert', 'Alan', 'Will', 'Adam')\n",
      "('Wes', 'Albert', 'Alan', 'Will', 'Steven')\n",
      "('Wes', 'Albert', 'Alan', 'Steven', 'Adam')\n",
      "('Wes', 'Albert', 'Alan', 'Steven', 'Will')\n",
      "('Wes', 'Albert', 'Adam', 'Alan', 'Will')\n",
      "('Wes', 'Albert', 'Adam', 'Alan', 'Steven')\n",
      "('Wes', 'Albert', 'Adam', 'Will', 'Alan')\n",
      "('Wes', 'Albert', 'Adam', 'Will', 'Steven')\n",
      "('Wes', 'Albert', 'Adam', 'Steven', 'Alan')\n",
      "('Wes', 'Albert', 'Adam', 'Steven', 'Will')\n",
      "('Wes', 'Albert', 'Will', 'Alan', 'Adam')\n",
      "('Wes', 'Albert', 'Will', 'Alan', 'Steven')\n",
      "('Wes', 'Albert', 'Will', 'Adam', 'Alan')\n",
      "('Wes', 'Albert', 'Will', 'Adam', 'Steven')\n",
      "('Wes', 'Albert', 'Will', 'Steven', 'Alan')\n",
      "('Wes', 'Albert', 'Will', 'Steven', 'Adam')\n",
      "('Wes', 'Albert', 'Steven', 'Alan', 'Adam')\n",
      "('Wes', 'Albert', 'Steven', 'Alan', 'Will')\n",
      "('Wes', 'Albert', 'Steven', 'Adam', 'Alan')\n",
      "('Wes', 'Albert', 'Steven', 'Adam', 'Will')\n",
      "('Wes', 'Albert', 'Steven', 'Will', 'Alan')\n",
      "('Wes', 'Albert', 'Steven', 'Will', 'Adam')\n",
      "('Wes', 'Steven', 'Alan', 'Adam', 'Will')\n",
      "('Wes', 'Steven', 'Alan', 'Adam', 'Albert')\n",
      "('Wes', 'Steven', 'Alan', 'Will', 'Adam')\n",
      "('Wes', 'Steven', 'Alan', 'Will', 'Albert')\n",
      "('Wes', 'Steven', 'Alan', 'Albert', 'Adam')\n",
      "('Wes', 'Steven', 'Alan', 'Albert', 'Will')\n",
      "('Wes', 'Steven', 'Adam', 'Alan', 'Will')\n",
      "('Wes', 'Steven', 'Adam', 'Alan', 'Albert')\n",
      "('Wes', 'Steven', 'Adam', 'Will', 'Alan')\n",
      "('Wes', 'Steven', 'Adam', 'Will', 'Albert')\n",
      "('Wes', 'Steven', 'Adam', 'Albert', 'Alan')\n",
      "('Wes', 'Steven', 'Adam', 'Albert', 'Will')\n",
      "('Wes', 'Steven', 'Will', 'Alan', 'Adam')\n",
      "('Wes', 'Steven', 'Will', 'Alan', 'Albert')\n",
      "('Wes', 'Steven', 'Will', 'Adam', 'Alan')\n",
      "('Wes', 'Steven', 'Will', 'Adam', 'Albert')\n",
      "('Wes', 'Steven', 'Will', 'Albert', 'Alan')\n",
      "('Wes', 'Steven', 'Will', 'Albert', 'Adam')\n",
      "('Wes', 'Steven', 'Albert', 'Alan', 'Adam')\n",
      "('Wes', 'Steven', 'Albert', 'Alan', 'Will')\n",
      "('Wes', 'Steven', 'Albert', 'Adam', 'Alan')\n",
      "('Wes', 'Steven', 'Albert', 'Adam', 'Will')\n",
      "('Wes', 'Steven', 'Albert', 'Will', 'Alan')\n",
      "('Wes', 'Steven', 'Albert', 'Will', 'Adam')\n"
     ]
    }
   ],
   "source": [
    "Wes = itertools.ifilter(lambda x: x[0] == 'Wes', itertools.permutations(names,5))\n",
    "for x in Wes:\n",
    "    print x"
   ]
  },
  {
   "cell_type": "code",
   "execution_count": 42,
   "metadata": {
    "collapsed": true
   },
   "outputs": [],
   "source": [
    "path = 'ch13/segismundo.txt'\n",
    "f = open(path)\n",
    "for line in f:\n",
    "    pass"
   ]
  },
  {
   "cell_type": "code",
   "execution_count": 43,
   "metadata": {
    "collapsed": false
   },
   "outputs": [
    {
     "data": {
      "text/plain": [
       "['Sue\\xc3\\xb1a el rico en su riqueza,',\n",
       " 'que m\\xc3\\xa1s cuidados le ofrece;',\n",
       " '',\n",
       " 'sue\\xc3\\xb1a el pobre que padece',\n",
       " 'su miseria y su pobreza;',\n",
       " '',\n",
       " 'sue\\xc3\\xb1a el que a medrar empieza,',\n",
       " 'sue\\xc3\\xb1a el que afana y pretende,',\n",
       " 'sue\\xc3\\xb1a el que agravia y ofende,',\n",
       " '',\n",
       " 'y en el mundo, en conclusi\\xc3\\xb3n,',\n",
       " 'todos sue\\xc3\\xb1an lo que son,',\n",
       " 'aunque ninguno lo entiende.',\n",
       " '']"
      ]
     },
     "execution_count": 43,
     "metadata": {},
     "output_type": "execute_result"
    }
   ],
   "source": [
    "lines = [x.rstrip() for x in open(path)]\n",
    "lines"
   ]
  },
  {
   "cell_type": "code",
   "execution_count": 44,
   "metadata": {
    "collapsed": true
   },
   "outputs": [],
   "source": [
    "with open('tmp.txt', 'w') as handle:\n",
    "    handle.writelines(x for x in open(path) if len(x) > 1)\n"
   ]
  },
  {
   "cell_type": "code",
   "execution_count": 45,
   "metadata": {
    "collapsed": false,
    "scrolled": true
   },
   "outputs": [
    {
     "data": {
      "text/plain": [
       "['Sue\\xc3\\xb1a el rico en su riqueza,\\n',\n",
       " 'que m\\xc3\\xa1s cuidados le ofrece;\\n',\n",
       " 'sue\\xc3\\xb1a el pobre que padece\\n',\n",
       " 'su miseria y su pobreza;\\n',\n",
       " 'sue\\xc3\\xb1a el que a medrar empieza,\\n',\n",
       " 'sue\\xc3\\xb1a el que afana y pretende,\\n',\n",
       " 'sue\\xc3\\xb1a el que agravia y ofende,\\n',\n",
       " 'y en el mundo, en conclusi\\xc3\\xb3n,\\n',\n",
       " 'todos sue\\xc3\\xb1an lo que son,\\n',\n",
       " 'aunque ninguno lo entiende.\\n']"
      ]
     },
     "execution_count": 45,
     "metadata": {},
     "output_type": "execute_result"
    }
   ],
   "source": [
    "open('tmp.txt').readlines()"
   ]
  },
  {
   "cell_type": "code",
   "execution_count": null,
   "metadata": {
    "collapsed": true
   },
   "outputs": [],
   "source": []
  }
 ],
 "metadata": {
  "kernelspec": {
   "display_name": "Python [Root]",
   "language": "python",
   "name": "Python [Root]"
  },
  "language_info": {
   "codemirror_mode": {
    "name": "ipython",
    "version": 2
   },
   "file_extension": ".py",
   "mimetype": "text/x-python",
   "name": "python",
   "nbconvert_exporter": "python",
   "pygments_lexer": "ipython2",
   "version": "2.7.11"
  }
 },
 "nbformat": 4,
 "nbformat_minor": 0
}
