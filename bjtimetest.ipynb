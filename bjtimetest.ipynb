{
 "cells": [
  {
   "cell_type": "code",
   "execution_count": 10,
   "metadata": {
    "collapsed": true
   },
   "outputs": [],
   "source": [
    "import pandas as pd\n",
    "import numpy as np\n",
    "from pandas import DataFrame, Series"
   ]
  },
  {
   "cell_type": "code",
   "execution_count": 16,
   "metadata": {
    "collapsed": false
   },
   "outputs": [
    {
     "data": {
      "text/html": [
       "<div>\n",
       "<table border=\"1\" class=\"dataframe\">\n",
       "  <thead>\n",
       "    <tr style=\"text-align: right;\">\n",
       "      <th></th>\n",
       "      <th>bjtime</th>\n",
       "    </tr>\n",
       "  </thead>\n",
       "  <tbody>\n",
       "    <tr>\n",
       "      <th>0</th>\n",
       "      <td>2016-12-18 03:33:33.153.5</td>\n",
       "    </tr>\n",
       "  </tbody>\n",
       "</table>\n",
       "</div>"
      ],
      "text/plain": [
       "                      bjtime\n",
       "0  2016-12-18 03:33:33.153.5"
      ]
     },
     "execution_count": 16,
     "metadata": {},
     "output_type": "execute_result"
    }
   ],
   "source": [
    "dt = pd.read_csv('bjtime.csv')\n",
    "dt"
   ]
  },
  {
   "cell_type": "code",
   "execution_count": 17,
   "metadata": {
    "collapsed": false
   },
   "outputs": [
    {
     "data": {
      "text/html": [
       "<div>\n",
       "<table border=\"1\" class=\"dataframe\">\n",
       "  <thead>\n",
       "    <tr style=\"text-align: right;\">\n",
       "      <th></th>\n",
       "      <th>bjtime</th>\n",
       "      <th>dateonestep</th>\n",
       "    </tr>\n",
       "  </thead>\n",
       "  <tbody>\n",
       "    <tr>\n",
       "      <th>0</th>\n",
       "      <td>2016-12-18 03:33:33.153.5</td>\n",
       "      <td>2016-12-18 03:33:33.153500</td>\n",
       "    </tr>\n",
       "  </tbody>\n",
       "</table>\n",
       "</div>"
      ],
      "text/plain": [
       "                      bjtime                dateonestep\n",
       "0  2016-12-18 03:33:33.153.5 2016-12-18 03:33:33.153500"
      ]
     },
     "execution_count": 17,
     "metadata": {},
     "output_type": "execute_result"
    }
   ],
   "source": [
    "dt['dateonestep'] = [pd.to_datetime(x[0:-2]+x[-1], format=\"%Y-%m-%d %H:%M:%S.%f\") \n",
    "                    for x in dt['bjtime']]\n",
    "dt"
   ]
  },
  {
   "cell_type": "code",
   "execution_count": 12,
   "metadata": {
    "collapsed": false
   },
   "outputs": [
    {
     "data": {
      "text/html": [
       "<div>\n",
       "<table border=\"1\" class=\"dataframe\">\n",
       "  <thead>\n",
       "    <tr style=\"text-align: right;\">\n",
       "      <th></th>\n",
       "      <th>bjtime</th>\n",
       "      <th>bjtimenew</th>\n",
       "    </tr>\n",
       "  </thead>\n",
       "  <tbody>\n",
       "    <tr>\n",
       "      <th>0</th>\n",
       "      <td>2016-12-18 03:33:33.153.5</td>\n",
       "      <td>2016-12-18 03:33:33.1535</td>\n",
       "    </tr>\n",
       "  </tbody>\n",
       "</table>\n",
       "</div>"
      ],
      "text/plain": [
       "                      bjtime                 bjtimenew\n",
       "0  2016-12-18 03:33:33.153.5  2016-12-18 03:33:33.1535"
      ]
     },
     "execution_count": 12,
     "metadata": {},
     "output_type": "execute_result"
    }
   ],
   "source": [
    "#dt['bjtimenew'] = map(lambda x: x[0:-2]+x[-1], dt['bjtime'])\n",
    "dt['bjtimenew'] = [x[0:-2]+x[-1] for x in dt['bjtime']]\n",
    "dt"
   ]
  },
  {
   "cell_type": "code",
   "execution_count": 13,
   "metadata": {
    "collapsed": false
   },
   "outputs": [
    {
     "data": {
      "text/html": [
       "<div>\n",
       "<table border=\"1\" class=\"dataframe\">\n",
       "  <thead>\n",
       "    <tr style=\"text-align: right;\">\n",
       "      <th></th>\n",
       "      <th>bjtime</th>\n",
       "      <th>bjtimenew</th>\n",
       "      <th>bjdata</th>\n",
       "    </tr>\n",
       "  </thead>\n",
       "  <tbody>\n",
       "    <tr>\n",
       "      <th>0</th>\n",
       "      <td>2016-12-18 03:33:33.153.5</td>\n",
       "      <td>2016-12-18 03:33:33.1535</td>\n",
       "      <td>2016-12-18 03:33:33.153500</td>\n",
       "    </tr>\n",
       "  </tbody>\n",
       "</table>\n",
       "</div>"
      ],
      "text/plain": [
       "                      bjtime                 bjtimenew  \\\n",
       "0  2016-12-18 03:33:33.153.5  2016-12-18 03:33:33.1535   \n",
       "\n",
       "                      bjdata  \n",
       "0 2016-12-18 03:33:33.153500  "
      ]
     },
     "execution_count": 13,
     "metadata": {},
     "output_type": "execute_result"
    }
   ],
   "source": [
    "#dt['bjdate'] = map(lambda x: pd.to_datetime(x, format=\"%Y-%m-%d %H:%M:%S.%f\"), dt['bjtimenew'])\n",
    "dt['bjdata'] = [pd.to_datetime(x, format=\"%Y-%m-%d %H:%M:%S.%f\") for x in dt['bjtimenew']]\n",
    "dt"
   ]
  },
  {
   "cell_type": "code",
   "execution_count": 5,
   "metadata": {
    "collapsed": false
   },
   "outputs": [
    {
     "name": "stdout",
     "output_type": "stream",
     "text": [
      "\n",
      "d:\\Anaconda2\\python27.zip\n",
      "d:\\Anaconda2\\DLLs\n",
      "d:\\Anaconda2\\lib\n",
      "d:\\Anaconda2\\lib\\plat-win\n",
      "d:\\Anaconda2\\lib\\lib-tk\n",
      "d:\\Anaconda2\n",
      "d:\\anaconda2\\lib\\site-packages\\sphinx-1.4.1-py2.7.egg\n",
      "d:\\anaconda2\\lib\\site-packages\\setuptools-23.0.0-py2.7.egg\n",
      "d:\\Anaconda2\\lib\\site-packages\n",
      "d:\\Anaconda2\\lib\\site-packages\\win32\n",
      "d:\\Anaconda2\\lib\\site-packages\\win32\\lib\n",
      "d:\\Anaconda2\\lib\\site-packages\\Pythonwin\n",
      "d:\\Anaconda2\\lib\\site-packages\\IPython\\extensions\n",
      "C:\\Users\\yan\\.ipython\n"
     ]
    }
   ],
   "source": [
    "import sys\n",
    "\n",
    "for path in sys.path:\n",
    "    print(path)"
   ]
  },
  {
   "cell_type": "code",
   "execution_count": 7,
   "metadata": {
    "collapsed": true
   },
   "outputs": [],
   "source": [
    "from mpl_toolkits.basemap import Basemap"
   ]
  },
  {
   "cell_type": "code",
   "execution_count": null,
   "metadata": {
    "collapsed": true
   },
   "outputs": [],
   "source": []
  }
 ],
 "metadata": {
  "kernelspec": {
   "display_name": "Python [Root]",
   "language": "python",
   "name": "Python [Root]"
  },
  "language_info": {
   "codemirror_mode": {
    "name": "ipython",
    "version": 2
   },
   "file_extension": ".py",
   "mimetype": "text/x-python",
   "name": "python",
   "nbconvert_exporter": "python",
   "pygments_lexer": "ipython2",
   "version": "2.7.11"
  }
 },
 "nbformat": 4,
 "nbformat_minor": 0
}
