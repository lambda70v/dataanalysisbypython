{
 "cells": [
  {
   "cell_type": "code",
   "execution_count": 1,
   "metadata": {
    "collapsed": true
   },
   "outputs": [],
   "source": [
    "import pandas as pd\n",
    "import numpy as np\n",
    "import matplotlib.pyplot as plt\n",
    "%matplotlib inline\n",
    "from pandas import DataFrame, Series"
   ]
  },
  {
   "cell_type": "code",
   "execution_count": 7,
   "metadata": {
    "collapsed": false
   },
   "outputs": [
    {
     "data": {
      "text/plain": [
       "2011-01-02   -0.217490\n",
       "2011-01-05    0.232629\n",
       "2011-01-07   -1.306862\n",
       "2011-01-08   -0.037602\n",
       "2011-01-10    1.035283\n",
       "2011-01-12   -1.695776\n",
       "dtype: float64"
      ]
     },
     "execution_count": 7,
     "metadata": {},
     "output_type": "execute_result"
    }
   ],
   "source": [
    "from datetime import datetime\n",
    "dates = [datetime(2011, 1, 2), datetime(2011, 1, 5), datetime(2011, 1, 7),\n",
    "        datetime(2011, 1, 8), datetime(2011, 1, 10), datetime(2011, 1, 12)]\n",
    "ts = Series(np.random.randn(6), index=dates)\n",
    "ts"
   ]
  },
  {
   "cell_type": "code",
   "execution_count": 8,
   "metadata": {
    "collapsed": false
   },
   "outputs": [
    {
     "data": {
      "text/plain": [
       "pandas.core.series.Series"
      ]
     },
     "execution_count": 8,
     "metadata": {},
     "output_type": "execute_result"
    }
   ],
   "source": [
    "type(ts)"
   ]
  },
  {
   "cell_type": "code",
   "execution_count": 9,
   "metadata": {
    "collapsed": false
   },
   "outputs": [
    {
     "data": {
      "text/plain": [
       "DatetimeIndex(['2011-01-02', '2011-01-05', '2011-01-07', '2011-01-08',\n",
       "               '2011-01-10', '2011-01-12'],\n",
       "              dtype='datetime64[ns]', freq=None)"
      ]
     },
     "execution_count": 9,
     "metadata": {},
     "output_type": "execute_result"
    }
   ],
   "source": [
    "ts.index"
   ]
  },
  {
   "cell_type": "code",
   "execution_count": 10,
   "metadata": {
    "collapsed": false
   },
   "outputs": [
    {
     "data": {
      "text/plain": [
       "2011-01-02   -0.434980\n",
       "2011-01-05         NaN\n",
       "2011-01-07   -2.613724\n",
       "2011-01-08         NaN\n",
       "2011-01-10    2.070567\n",
       "2011-01-12         NaN\n",
       "dtype: float64"
      ]
     },
     "execution_count": 10,
     "metadata": {},
     "output_type": "execute_result"
    }
   ],
   "source": [
    "ts + ts[::2]"
   ]
  },
  {
   "cell_type": "code",
   "execution_count": 11,
   "metadata": {
    "collapsed": false
   },
   "outputs": [
    {
     "data": {
      "text/plain": [
       "dtype('<M8[ns]')"
      ]
     },
     "execution_count": 11,
     "metadata": {},
     "output_type": "execute_result"
    }
   ],
   "source": [
    "ts.index.dtype"
   ]
  },
  {
   "cell_type": "code",
   "execution_count": 13,
   "metadata": {
    "collapsed": false
   },
   "outputs": [
    {
     "data": {
      "text/plain": [
       "Timestamp('2011-01-02 00:00:00')"
      ]
     },
     "execution_count": 13,
     "metadata": {},
     "output_type": "execute_result"
    }
   ],
   "source": [
    "stamp = ts.index[0]\n",
    "stamp"
   ]
  },
  {
   "cell_type": "code",
   "execution_count": 14,
   "metadata": {
    "collapsed": false
   },
   "outputs": [
    {
     "data": {
      "text/plain": [
       "-1.3068620596944851"
      ]
     },
     "execution_count": 14,
     "metadata": {},
     "output_type": "execute_result"
    }
   ],
   "source": [
    "stamp = ts.index[2]\n",
    "ts[stamp]"
   ]
  },
  {
   "cell_type": "code",
   "execution_count": 15,
   "metadata": {
    "collapsed": false
   },
   "outputs": [
    {
     "data": {
      "text/plain": [
       "1.0352833533993351"
      ]
     },
     "execution_count": 15,
     "metadata": {},
     "output_type": "execute_result"
    }
   ],
   "source": [
    "ts['1/10/2011']"
   ]
  },
  {
   "cell_type": "code",
   "execution_count": 16,
   "metadata": {
    "collapsed": false
   },
   "outputs": [
    {
     "data": {
      "text/plain": [
       "1.0352833533993351"
      ]
     },
     "execution_count": 16,
     "metadata": {},
     "output_type": "execute_result"
    }
   ],
   "source": [
    "ts['20110110']"
   ]
  },
  {
   "cell_type": "code",
   "execution_count": 17,
   "metadata": {
    "collapsed": false
   },
   "outputs": [
    {
     "data": {
      "text/plain": [
       "2000-01-01   -0.038460\n",
       "2000-01-02    0.453099\n",
       "2000-01-03   -0.651186\n",
       "2000-01-04   -0.663280\n",
       "2000-01-05   -0.603742\n",
       "2000-01-06    0.353221\n",
       "2000-01-07   -2.176615\n",
       "2000-01-08    0.214963\n",
       "2000-01-09   -0.523673\n",
       "2000-01-10   -1.041635\n",
       "2000-01-11    0.682076\n",
       "2000-01-12   -0.482131\n",
       "2000-01-13   -0.329607\n",
       "2000-01-14   -0.176688\n",
       "2000-01-15    1.263878\n",
       "2000-01-16    0.136266\n",
       "2000-01-17    1.130064\n",
       "2000-01-18    0.782839\n",
       "2000-01-19    0.209327\n",
       "2000-01-20    1.373854\n",
       "2000-01-21    1.244269\n",
       "2000-01-22   -0.695844\n",
       "2000-01-23    0.159428\n",
       "2000-01-24    1.404400\n",
       "2000-01-25   -1.209737\n",
       "2000-01-26    0.668682\n",
       "2000-01-27   -0.131594\n",
       "2000-01-28   -2.835395\n",
       "2000-01-29    0.004286\n",
       "2000-01-30    0.509177\n",
       "                ...   \n",
       "2002-08-28   -0.374837\n",
       "2002-08-29   -0.333647\n",
       "2002-08-30   -0.633700\n",
       "2002-08-31    0.609845\n",
       "2002-09-01    2.124618\n",
       "2002-09-02    1.139003\n",
       "2002-09-03    0.140639\n",
       "2002-09-04    1.229015\n",
       "2002-09-05    1.840096\n",
       "2002-09-06    0.774543\n",
       "2002-09-07    0.672464\n",
       "2002-09-08   -1.208706\n",
       "2002-09-09   -1.159701\n",
       "2002-09-10    0.268345\n",
       "2002-09-11    0.199017\n",
       "2002-09-12   -0.133274\n",
       "2002-09-13    0.688592\n",
       "2002-09-14    1.874525\n",
       "2002-09-15    2.030613\n",
       "2002-09-16    0.173638\n",
       "2002-09-17    0.101632\n",
       "2002-09-18    0.462317\n",
       "2002-09-19   -0.007706\n",
       "2002-09-20   -0.695445\n",
       "2002-09-21   -0.598202\n",
       "2002-09-22    0.550767\n",
       "2002-09-23    1.442328\n",
       "2002-09-24   -0.151823\n",
       "2002-09-25    0.194411\n",
       "2002-09-26   -0.210302\n",
       "Freq: D, dtype: float64"
      ]
     },
     "execution_count": 17,
     "metadata": {},
     "output_type": "execute_result"
    }
   ],
   "source": [
    "longer_ts = Series(np.random.randn(1000),\n",
    "                  index=pd.date_range('1/1/2000', periods=1000))\n",
    "longer_ts"
   ]
  },
  {
   "cell_type": "code",
   "execution_count": 18,
   "metadata": {
    "collapsed": false
   },
   "outputs": [
    {
     "data": {
      "text/plain": [
       "2001-01-01   -0.826275\n",
       "2001-01-02    1.387808\n",
       "2001-01-03   -0.911606\n",
       "2001-01-04   -0.546555\n",
       "2001-01-05   -1.667812\n",
       "2001-01-06   -1.131112\n",
       "2001-01-07    1.252056\n",
       "2001-01-08    0.319335\n",
       "2001-01-09    0.740146\n",
       "2001-01-10   -0.384294\n",
       "2001-01-11    0.202212\n",
       "2001-01-12    1.259484\n",
       "2001-01-13   -2.233536\n",
       "2001-01-14    0.474881\n",
       "2001-01-15   -1.498646\n",
       "2001-01-16   -1.507541\n",
       "2001-01-17   -1.395348\n",
       "2001-01-18   -0.696344\n",
       "2001-01-19   -0.125430\n",
       "2001-01-20   -1.064943\n",
       "2001-01-21   -0.620401\n",
       "2001-01-22   -0.139936\n",
       "2001-01-23   -1.097298\n",
       "2001-01-24    0.097586\n",
       "2001-01-25    0.158815\n",
       "2001-01-26    0.059007\n",
       "2001-01-27    0.329880\n",
       "2001-01-28    0.071079\n",
       "2001-01-29   -0.186354\n",
       "2001-01-30    0.052783\n",
       "                ...   \n",
       "2001-12-02   -3.265659\n",
       "2001-12-03    0.986492\n",
       "2001-12-04   -2.898704\n",
       "2001-12-05   -1.609303\n",
       "2001-12-06   -0.348018\n",
       "2001-12-07   -0.860276\n",
       "2001-12-08    0.145911\n",
       "2001-12-09    0.311387\n",
       "2001-12-10    0.426004\n",
       "2001-12-11   -1.211686\n",
       "2001-12-12    0.957913\n",
       "2001-12-13    0.332860\n",
       "2001-12-14   -1.446436\n",
       "2001-12-15   -0.594030\n",
       "2001-12-16   -0.192876\n",
       "2001-12-17    0.268391\n",
       "2001-12-18   -0.518900\n",
       "2001-12-19   -0.804856\n",
       "2001-12-20   -0.140815\n",
       "2001-12-21    0.133363\n",
       "2001-12-22   -0.598520\n",
       "2001-12-23    0.540674\n",
       "2001-12-24   -0.676043\n",
       "2001-12-25    0.253910\n",
       "2001-12-26   -0.437802\n",
       "2001-12-27   -0.150000\n",
       "2001-12-28   -0.039667\n",
       "2001-12-29    0.738345\n",
       "2001-12-30   -0.905963\n",
       "2001-12-31    0.052548\n",
       "Freq: D, dtype: float64"
      ]
     },
     "execution_count": 18,
     "metadata": {},
     "output_type": "execute_result"
    }
   ],
   "source": [
    "longer_ts['2001']"
   ]
  },
  {
   "cell_type": "code",
   "execution_count": 19,
   "metadata": {
    "collapsed": false
   },
   "outputs": [
    {
     "data": {
      "text/plain": [
       "2001-05-01   -0.943727\n",
       "2001-05-02    0.051258\n",
       "2001-05-03   -0.474104\n",
       "2001-05-04    0.836441\n",
       "2001-05-05    0.714126\n",
       "2001-05-06   -0.966798\n",
       "2001-05-07    1.573168\n",
       "2001-05-08   -1.580141\n",
       "2001-05-09    1.622680\n",
       "2001-05-10   -0.315510\n",
       "2001-05-11    0.330638\n",
       "2001-05-12    1.210118\n",
       "2001-05-13    0.015662\n",
       "2001-05-14    0.483605\n",
       "2001-05-15    2.558906\n",
       "2001-05-16    2.043627\n",
       "2001-05-17    1.232723\n",
       "2001-05-18    0.123412\n",
       "2001-05-19    0.519859\n",
       "2001-05-20   -2.947284\n",
       "2001-05-21    0.239201\n",
       "2001-05-22   -2.051902\n",
       "2001-05-23    0.092232\n",
       "2001-05-24   -1.210047\n",
       "2001-05-25   -0.597089\n",
       "2001-05-26   -0.439398\n",
       "2001-05-27   -2.276553\n",
       "2001-05-28    1.270015\n",
       "2001-05-29   -0.706633\n",
       "2001-05-30    1.293651\n",
       "2001-05-31    0.140200\n",
       "Freq: D, dtype: float64"
      ]
     },
     "execution_count": 19,
     "metadata": {},
     "output_type": "execute_result"
    }
   ],
   "source": [
    "longer_ts['2001-05']"
   ]
  },
  {
   "cell_type": "code",
   "execution_count": 20,
   "metadata": {
    "collapsed": false
   },
   "outputs": [
    {
     "data": {
      "text/plain": [
       "2011-01-07   -1.306862\n",
       "2011-01-08   -0.037602\n",
       "2011-01-10    1.035283\n",
       "2011-01-12   -1.695776\n",
       "dtype: float64"
      ]
     },
     "execution_count": 20,
     "metadata": {},
     "output_type": "execute_result"
    }
   ],
   "source": [
    "ts[datetime(2011, 1, 7):]"
   ]
  },
  {
   "cell_type": "code",
   "execution_count": 21,
   "metadata": {
    "collapsed": false
   },
   "outputs": [
    {
     "data": {
      "text/plain": [
       "2011-01-02   -0.217490\n",
       "2011-01-05    0.232629\n",
       "2011-01-07   -1.306862\n",
       "2011-01-08   -0.037602\n",
       "2011-01-10    1.035283\n",
       "2011-01-12   -1.695776\n",
       "dtype: float64"
      ]
     },
     "execution_count": 21,
     "metadata": {},
     "output_type": "execute_result"
    }
   ],
   "source": [
    "ts"
   ]
  },
  {
   "cell_type": "code",
   "execution_count": 22,
   "metadata": {
    "collapsed": false
   },
   "outputs": [
    {
     "data": {
      "text/plain": [
       "2011-01-07   -1.306862\n",
       "2011-01-08   -0.037602\n",
       "2011-01-10    1.035283\n",
       "dtype: float64"
      ]
     },
     "execution_count": 22,
     "metadata": {},
     "output_type": "execute_result"
    }
   ],
   "source": [
    "ts['1/6/2011':'1/11/2011']"
   ]
  },
  {
   "cell_type": "code",
   "execution_count": 23,
   "metadata": {
    "collapsed": false
   },
   "outputs": [
    {
     "data": {
      "text/plain": [
       "2011-01-02   -0.217490\n",
       "2011-01-05    0.232629\n",
       "2011-01-07   -1.306862\n",
       "2011-01-08   -0.037602\n",
       "dtype: float64"
      ]
     },
     "execution_count": 23,
     "metadata": {},
     "output_type": "execute_result"
    }
   ],
   "source": [
    "ts.truncate(after='1/9/2011')"
   ]
  },
  {
   "cell_type": "code",
   "execution_count": 24,
   "metadata": {
    "collapsed": false
   },
   "outputs": [
    {
     "data": {
      "text/html": [
       "<div>\n",
       "<table border=\"1\" class=\"dataframe\">\n",
       "  <thead>\n",
       "    <tr style=\"text-align: right;\">\n",
       "      <th></th>\n",
       "      <th>Colorado</th>\n",
       "      <th>Texas</th>\n",
       "      <th>New York</th>\n",
       "      <th>Ohio</th>\n",
       "    </tr>\n",
       "  </thead>\n",
       "  <tbody>\n",
       "    <tr>\n",
       "      <th>2001-05-02</th>\n",
       "      <td>-0.756285</td>\n",
       "      <td>-0.002420</td>\n",
       "      <td>1.179144</td>\n",
       "      <td>-0.871021</td>\n",
       "    </tr>\n",
       "    <tr>\n",
       "      <th>2001-05-09</th>\n",
       "      <td>-0.120137</td>\n",
       "      <td>-0.893153</td>\n",
       "      <td>-0.001954</td>\n",
       "      <td>1.634898</td>\n",
       "    </tr>\n",
       "    <tr>\n",
       "      <th>2001-05-16</th>\n",
       "      <td>-1.046715</td>\n",
       "      <td>0.790516</td>\n",
       "      <td>1.469831</td>\n",
       "      <td>-0.178039</td>\n",
       "    </tr>\n",
       "    <tr>\n",
       "      <th>2001-05-23</th>\n",
       "      <td>0.071643</td>\n",
       "      <td>-1.757984</td>\n",
       "      <td>-1.191287</td>\n",
       "      <td>-0.735796</td>\n",
       "    </tr>\n",
       "    <tr>\n",
       "      <th>2001-05-30</th>\n",
       "      <td>-0.595489</td>\n",
       "      <td>0.955372</td>\n",
       "      <td>0.673426</td>\n",
       "      <td>1.737943</td>\n",
       "    </tr>\n",
       "  </tbody>\n",
       "</table>\n",
       "</div>"
      ],
      "text/plain": [
       "            Colorado     Texas  New York      Ohio\n",
       "2001-05-02 -0.756285 -0.002420  1.179144 -0.871021\n",
       "2001-05-09 -0.120137 -0.893153 -0.001954  1.634898\n",
       "2001-05-16 -1.046715  0.790516  1.469831 -0.178039\n",
       "2001-05-23  0.071643 -1.757984 -1.191287 -0.735796\n",
       "2001-05-30 -0.595489  0.955372  0.673426  1.737943"
      ]
     },
     "execution_count": 24,
     "metadata": {},
     "output_type": "execute_result"
    }
   ],
   "source": [
    "dates = pd.date_range('1/1/2000', periods=100, freq='W-WED')\n",
    "long_df = DataFrame(np.random.randn(100, 4),\n",
    "                   index=dates,\n",
    "                   columns=['Colorado', 'Texas', 'New York', 'Ohio'])\n",
    "long_df.ix['5-2001']"
   ]
  },
  {
   "cell_type": "code",
   "execution_count": 25,
   "metadata": {
    "collapsed": false
   },
   "outputs": [
    {
     "data": {
      "text/plain": [
       "2000-01-01    0\n",
       "2000-01-02    1\n",
       "2000-01-02    2\n",
       "2000-01-02    3\n",
       "2000-01-03    4\n",
       "dtype: int32"
      ]
     },
     "execution_count": 25,
     "metadata": {},
     "output_type": "execute_result"
    }
   ],
   "source": [
    "dates = pd.DatetimeIndex(['1/1/2000', '1/2/2000', '1/2/2000', '1/2/2000',\n",
    "                         '1/3/2000'])\n",
    "dup_ts = Series(np.arange(5), index=dates)\n",
    "dup_ts"
   ]
  },
  {
   "cell_type": "code",
   "execution_count": 26,
   "metadata": {
    "collapsed": false
   },
   "outputs": [
    {
     "data": {
      "text/plain": [
       "False"
      ]
     },
     "execution_count": 26,
     "metadata": {},
     "output_type": "execute_result"
    }
   ],
   "source": [
    "dup_ts.index.is_unique"
   ]
  },
  {
   "cell_type": "code",
   "execution_count": 27,
   "metadata": {
    "collapsed": false
   },
   "outputs": [
    {
     "data": {
      "text/plain": [
       "4"
      ]
     },
     "execution_count": 27,
     "metadata": {},
     "output_type": "execute_result"
    }
   ],
   "source": [
    "dup_ts['1/3/2000'] # 不重复"
   ]
  },
  {
   "cell_type": "code",
   "execution_count": 28,
   "metadata": {
    "collapsed": false
   },
   "outputs": [
    {
     "data": {
      "text/plain": [
       "2000-01-02    1\n",
       "2000-01-02    2\n",
       "2000-01-02    3\n",
       "dtype: int32"
      ]
     },
     "execution_count": 28,
     "metadata": {},
     "output_type": "execute_result"
    }
   ],
   "source": [
    "dup_ts['1/2/2000'] # 重复"
   ]
  },
  {
   "cell_type": "code",
   "execution_count": 29,
   "metadata": {
    "collapsed": false
   },
   "outputs": [
    {
     "data": {
      "text/plain": [
       "2000-01-01    0\n",
       "2000-01-02    2\n",
       "2000-01-03    4\n",
       "dtype: int32"
      ]
     },
     "execution_count": 29,
     "metadata": {},
     "output_type": "execute_result"
    }
   ],
   "source": [
    "grouped = dup_ts.groupby(level=0)\n",
    "grouped.mean()"
   ]
  },
  {
   "cell_type": "code",
   "execution_count": 30,
   "metadata": {
    "collapsed": false
   },
   "outputs": [
    {
     "data": {
      "text/plain": [
       "2000-01-01    1\n",
       "2000-01-02    3\n",
       "2000-01-03    1\n",
       "dtype: int64"
      ]
     },
     "execution_count": 30,
     "metadata": {},
     "output_type": "execute_result"
    }
   ],
   "source": [
    "grouped.count()"
   ]
  },
  {
   "cell_type": "code",
   "execution_count": 31,
   "metadata": {
    "collapsed": false
   },
   "outputs": [
    {
     "data": {
      "text/plain": [
       "2011-01-02   -0.217490\n",
       "2011-01-05    0.232629\n",
       "2011-01-07   -1.306862\n",
       "2011-01-08   -0.037602\n",
       "2011-01-10    1.035283\n",
       "2011-01-12   -1.695776\n",
       "dtype: float64"
      ]
     },
     "execution_count": 31,
     "metadata": {},
     "output_type": "execute_result"
    }
   ],
   "source": [
    "ts"
   ]
  },
  {
   "cell_type": "code",
   "execution_count": 33,
   "metadata": {
    "collapsed": false
   },
   "outputs": [
    {
     "data": {
      "text/plain": [
       "2011-01-02   -0.217490\n",
       "2011-01-03         NaN\n",
       "2011-01-04         NaN\n",
       "2011-01-05    0.232629\n",
       "2011-01-06         NaN\n",
       "2011-01-07   -1.306862\n",
       "2011-01-08   -0.037602\n",
       "2011-01-09         NaN\n",
       "2011-01-10    1.035283\n",
       "2011-01-11         NaN\n",
       "2011-01-12   -1.695776\n",
       "Freq: D, dtype: float64"
      ]
     },
     "execution_count": 33,
     "metadata": {},
     "output_type": "execute_result"
    }
   ],
   "source": [
    "ts.resample('D').mean()"
   ]
  },
  {
   "cell_type": "code",
   "execution_count": 34,
   "metadata": {
    "collapsed": false
   },
   "outputs": [
    {
     "data": {
      "text/plain": [
       "DatetimeIndex(['2012-04-01', '2012-04-02', '2012-04-03', '2012-04-04',\n",
       "               '2012-04-05', '2012-04-06', '2012-04-07', '2012-04-08',\n",
       "               '2012-04-09', '2012-04-10', '2012-04-11', '2012-04-12',\n",
       "               '2012-04-13', '2012-04-14', '2012-04-15', '2012-04-16',\n",
       "               '2012-04-17', '2012-04-18', '2012-04-19', '2012-04-20',\n",
       "               '2012-04-21', '2012-04-22', '2012-04-23', '2012-04-24',\n",
       "               '2012-04-25', '2012-04-26', '2012-04-27', '2012-04-28',\n",
       "               '2012-04-29', '2012-04-30', '2012-05-01', '2012-05-02',\n",
       "               '2012-05-03', '2012-05-04', '2012-05-05', '2012-05-06',\n",
       "               '2012-05-07', '2012-05-08', '2012-05-09', '2012-05-10',\n",
       "               '2012-05-11', '2012-05-12', '2012-05-13', '2012-05-14',\n",
       "               '2012-05-15', '2012-05-16', '2012-05-17', '2012-05-18',\n",
       "               '2012-05-19', '2012-05-20', '2012-05-21', '2012-05-22',\n",
       "               '2012-05-23', '2012-05-24', '2012-05-25', '2012-05-26',\n",
       "               '2012-05-27', '2012-05-28', '2012-05-29', '2012-05-30',\n",
       "               '2012-05-31', '2012-06-01'],\n",
       "              dtype='datetime64[ns]', freq='D')"
      ]
     },
     "execution_count": 34,
     "metadata": {},
     "output_type": "execute_result"
    }
   ],
   "source": [
    "index = pd.date_range('4/1/2012', '6/1/2012')\n",
    "index"
   ]
  },
  {
   "cell_type": "code",
   "execution_count": 35,
   "metadata": {
    "collapsed": false
   },
   "outputs": [
    {
     "data": {
      "text/plain": [
       "DatetimeIndex(['2012-04-01', '2012-04-02', '2012-04-03', '2012-04-04',\n",
       "               '2012-04-05', '2012-04-06', '2012-04-07', '2012-04-08',\n",
       "               '2012-04-09', '2012-04-10', '2012-04-11', '2012-04-12',\n",
       "               '2012-04-13', '2012-04-14', '2012-04-15', '2012-04-16',\n",
       "               '2012-04-17', '2012-04-18', '2012-04-19', '2012-04-20'],\n",
       "              dtype='datetime64[ns]', freq='D')"
      ]
     },
     "execution_count": 35,
     "metadata": {},
     "output_type": "execute_result"
    }
   ],
   "source": [
    "pd.date_range(start='4/1/2012', periods=20)"
   ]
  },
  {
   "cell_type": "code",
   "execution_count": 36,
   "metadata": {
    "collapsed": false
   },
   "outputs": [
    {
     "data": {
      "text/plain": [
       "DatetimeIndex(['2012-05-13', '2012-05-14', '2012-05-15', '2012-05-16',\n",
       "               '2012-05-17', '2012-05-18', '2012-05-19', '2012-05-20',\n",
       "               '2012-05-21', '2012-05-22', '2012-05-23', '2012-05-24',\n",
       "               '2012-05-25', '2012-05-26', '2012-05-27', '2012-05-28',\n",
       "               '2012-05-29', '2012-05-30', '2012-05-31', '2012-06-01'],\n",
       "              dtype='datetime64[ns]', freq='D')"
      ]
     },
     "execution_count": 36,
     "metadata": {},
     "output_type": "execute_result"
    }
   ],
   "source": [
    "pd.date_range(end='6/1/2012', periods=20)"
   ]
  },
  {
   "cell_type": "code",
   "execution_count": 37,
   "metadata": {
    "collapsed": false
   },
   "outputs": [
    {
     "data": {
      "text/plain": [
       "DatetimeIndex(['2000-01-31', '2000-02-29', '2000-03-31', '2000-04-28',\n",
       "               '2000-05-31', '2000-06-30', '2000-07-31', '2000-08-31',\n",
       "               '2000-09-29', '2000-10-31', '2000-11-30'],\n",
       "              dtype='datetime64[ns]', freq='BM')"
      ]
     },
     "execution_count": 37,
     "metadata": {},
     "output_type": "execute_result"
    }
   ],
   "source": [
    "pd.date_range('1/1/2000', '12/1/2000', freq='BM')"
   ]
  },
  {
   "cell_type": "code",
   "execution_count": 38,
   "metadata": {
    "collapsed": false
   },
   "outputs": [
    {
     "data": {
      "text/plain": [
       "DatetimeIndex(['2012-05-02 12:56:31', '2012-05-03 12:56:31',\n",
       "               '2012-05-04 12:56:31', '2012-05-05 12:56:31',\n",
       "               '2012-05-06 12:56:31'],\n",
       "              dtype='datetime64[ns]', freq='D')"
      ]
     },
     "execution_count": 38,
     "metadata": {},
     "output_type": "execute_result"
    }
   ],
   "source": [
    "pd.date_range('5/2/2012 12:56:31', periods=5)"
   ]
  },
  {
   "cell_type": "code",
   "execution_count": 44,
   "metadata": {
    "collapsed": false
   },
   "outputs": [
    {
     "data": {
      "text/plain": [
       "DatetimeIndex(['2016-07-25 10:11:12.345678', '2016-08-01 10:11:12.345678',\n",
       "               '2016-08-08 10:11:12.345678', '2016-08-15 10:11:12.345678',\n",
       "               '2016-08-22 10:11:12.345678', '2016-08-29 10:11:12.345678',\n",
       "               '2016-09-05 10:11:12.345678', '2016-09-12 10:11:12.345678',\n",
       "               '2016-09-19 10:11:12.345678', '2016-09-26 10:11:12.345678'],\n",
       "              dtype='datetime64[ns]', freq='W-MON')"
      ]
     },
     "execution_count": 44,
     "metadata": {},
     "output_type": "execute_result"
    }
   ],
   "source": [
    "pd.date_range('7/21/2016 10:11:12.345678', periods=10, freq='W-MON')"
   ]
  },
  {
   "cell_type": "code",
   "execution_count": 45,
   "metadata": {
    "collapsed": false
   },
   "outputs": [
    {
     "data": {
      "text/plain": [
       "DatetimeIndex(['2012-05-02', '2012-05-03', '2012-05-04', '2012-05-05',\n",
       "               '2012-05-06'],\n",
       "              dtype='datetime64[ns]', freq='D')"
      ]
     },
     "execution_count": 45,
     "metadata": {},
     "output_type": "execute_result"
    }
   ],
   "source": [
    "pd.date_range('5/2/2012 12:56:31', periods=5, normalize=True)"
   ]
  },
  {
   "cell_type": "code",
   "execution_count": null,
   "metadata": {
    "collapsed": true
   },
   "outputs": [],
   "source": []
  }
 ],
 "metadata": {
  "anaconda-cloud": {},
  "kernelspec": {
   "display_name": "Python [Root]",
   "language": "python",
   "name": "Python [Root]"
  },
  "language_info": {
   "codemirror_mode": {
    "name": "ipython",
    "version": 2
   },
   "file_extension": ".py",
   "mimetype": "text/x-python",
   "name": "python",
   "nbconvert_exporter": "python",
   "pygments_lexer": "ipython2",
   "version": "2.7.11"
  }
 },
 "nbformat": 4,
 "nbformat_minor": 0
}
